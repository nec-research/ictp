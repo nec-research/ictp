{
 "cells": [
  {
   "cell_type": "markdown",
   "metadata": {},
   "source": [
    "# Using ICTP to train machine-learned interatomic potentials based on higher-rank irreducible Cartesian tensors and run molecular dynamics simulations\n",
    "\n",
    "This notebook demonstrates how machine-learned interatomic potentials, as implemented in ICTP, can be trained with publicly available benchmark data sets and then employed in molecular dynamics simulations. In particular, we use the DHA molecule from the [MD22 data set](http://www.sgdml.org) and the [Ta-V-Cr-W data set](https://doi.org/10.18419/darus-3516). We begin by downloading and storing the corresponding data sets. We store them in the `../datasets` subfolder. For the [Ta-V-Cr-W data set](https://doi.org/10.18419/darus-3516), we have to run `python prepare_extxyz.py` and `python prepare_deformed_experiments.py` in the `../datasets/HEA` subfolder before launching the training of ICTP models. In the next step, we load all necessary modules and prepare scripts for training and testing our models. Training, evaluation, and molecular dynamics simulations may require a few hours. Therefore, we provide separate scripts: `run_training_DHA.py`, `run_molecular_dynamics_DHA.py`, `run_training_HEA.py`, and `run_molecular_dynamics_HEA.py` to simplify the process. In the following, we explain the main building blocks and present the results of the respective steps."
   ]
  },
  {
   "cell_type": "code",
   "execution_count": 1,
   "metadata": {},
   "outputs": [],
   "source": [
    "import sys\n",
    "\n",
    "# set python paths\n",
    "sys.path.append('/mnt/local/vzaverkin/projects/ictp')\n",
    "\n",
    "from typing import Optional, Union, Dict, Tuple\n",
    "from pathlib import Path\n",
    "import yaml\n",
    "\n",
    "import numpy as np\n",
    "\n",
    "from ictp.data.data import AtomicStructures\n",
    "\n",
    "from ictp.strategies import TrainingStrategy, EvaluationStrategy\n",
    "\n",
    "from ictp.model.forward import load_model_from_folder\n",
    "\n",
    "from ictp.utils.config import update_config\n",
    "from ictp.utils.misc import set_default_dtype, load_object\n",
    "\n",
    "import matplotlib.pylab as plt\n",
    "from ase.io.trajectory import Trajectory\n",
    "\n",
    "from scipy import signal\n",
    "\n",
    "axis_font = { 'size':'12'}"
   ]
  },
  {
   "cell_type": "markdown",
   "metadata": {},
   "source": [
    "The training and evaluation can be performed using the `TrainingStrategy` and `EvaluationStrategy`, respectively, and we define the following functions to make the process simpler:"
   ]
  },
  {
   "cell_type": "code",
   "execution_count": 2,
   "metadata": {},
   "outputs": [],
   "source": [
    "# training\n",
    "def train(config: Optional[Union[str, Dict]] = None):\n",
    "    \n",
    "    # load config from config_file\n",
    "    if isinstance(config, str):\n",
    "        config = yaml.safe_load(Path(config).read_text())\n",
    "\n",
    "    # update default config with provided parameters (is done twice as here we need to update data path)\n",
    "    config = update_config(config)\n",
    "    \n",
    "    # define default dtype\n",
    "    set_default_dtype(config['default_dtype'])\n",
    "    \n",
    "    # manage data\n",
    "    if config['data_path']:\n",
    "        atomic_structures = AtomicStructures.from_file(config['data_path'], **config)\n",
    "        split = atomic_structures.random_split({'train': config['n_train'], 'valid': config['n_valid']},\n",
    "                                               seed=config['data_seed'])\n",
    "    else:\n",
    "        train_structures = AtomicStructures.from_file(config['train_data_path'], **config)\n",
    "        valid_structures = AtomicStructures.from_file(config['valid_data_path'], **config)\n",
    "        split = {'train': train_structures, 'valid': valid_structures}\n",
    "\n",
    "    # run training\n",
    "    training = TrainingStrategy(config)\n",
    "    _ = training.run(train_structures=split['train'], valid_structures=split['valid'], folder=config['model_path'])"
   ]
  },
  {
   "cell_type": "code",
   "execution_count": 3,
   "metadata": {},
   "outputs": [],
   "source": [
    "# evaluation\n",
    "def eval(config: Optional[Union[str, Dict]] = None):\n",
    "\n",
    "    # load config from config_file\n",
    "    if isinstance(config, str):\n",
    "        config = yaml.safe_load(Path(config).read_text())\n",
    "\n",
    "    # update default config with provided parameters (is done twice as here we need to update data path)\n",
    "    config = update_config(config)\n",
    "    \n",
    "    # define default dtype\n",
    "    set_default_dtype(config['default_dtype'])\n",
    "\n",
    "    # manage data\n",
    "    if config['data_path']:\n",
    "        atomic_structures = AtomicStructures.from_file(config['data_path'], **config)\n",
    "        split = atomic_structures.random_split({'train': config['n_train'], 'valid': config['n_valid']},\n",
    "                                               seed=config['data_seed'])\n",
    "        if 'test' not in split:\n",
    "            raise RuntimeError(f'Current split does not contain test data. In this case make sure to provide '\n",
    "                               f'a separate test data path.')\n",
    "        test_structures = split['test']\n",
    "    else:\n",
    "        test_structures = AtomicStructures.from_file(config['test_data_path'], **config)\n",
    "\n",
    "    # load trained models and evaluate them on the test set\n",
    "    model = load_model_from_folder(config['model_path'], key='best')\n",
    "    \n",
    "    evaluate = EvaluationStrategy(config)\n",
    "    errors = evaluate.run(model, test_structures=test_structures, folder=config['model_path'])\n",
    "    return errors"
   ]
  },
  {
   "cell_type": "markdown",
   "metadata": {},
   "source": [
    "Then, we can define configurations for the corresponding DHA and Ta-V-Cr-W systems:"
   ]
  },
  {
   "cell_type": "code",
   "execution_count": 4,
   "metadata": {},
   "outputs": [],
   "source": [
    "config_DHA = dict(data_path='../datasets/md22/md22_DHA.xyz',\n",
    "                  device='cuda:0',\n",
    "                  data_seed=0,\n",
    "                  atomic_types=['H', 'C', 'N', 'O'],\n",
    "                  atomic_energies=[0., 0., 0., 0.],\n",
    "                  r_cutoff=6.0,\n",
    "                  n_train=500,\n",
    "                  n_valid=50,\n",
    "                  train_batch_size=32,\n",
    "                  eval_batch_size=50,\n",
    "                  model_path='../results/md22_DHA/seed_0',\n",
    "                  model_seed=0,\n",
    "                  default_dtype='float32',\n",
    "                  n_hidden_feats=128,\n",
    "                  n_product_feats=128,\n",
    "                  n_interactions=2,\n",
    "                  l_max_hidden_feats=1,\n",
    "                  l_max_edge_attrs=3,\n",
    "                  correlation=3,\n",
    "                  coupled_product_feats=False,\n",
    "                  symmetric_product=True,\n",
    "                  max_epoch=1000,\n",
    "                  scheduler_patience=50,\n",
    "                  ema=True,\n",
    "                  ema_decay=0.99,\n",
    "                  train_loss={\n",
    "                      'type': 'weighted_sum',\n",
    "                      'losses': [\n",
    "                          {'type': 'energy_by_sqrt_atoms_sse'},\n",
    "                          {'type': 'forces_sse'}\n",
    "                          ],\n",
    "                      'weights': [\n",
    "                          10.0 / 23.06 ** 2,\n",
    "                          1.0 / 23.06 ** 2\n",
    "                          ]\n",
    "                      },\n",
    "                  early_stopping_loss={\n",
    "                      'type': 'weighted_sum',\n",
    "                      'losses': [\n",
    "                          {'type': 'energy_by_sqrt_atoms_sse'},\n",
    "                          {'type': 'forces_sse'}\n",
    "                          ],\n",
    "                      'weights': [\n",
    "                          10.0 / 23.06 ** 2,\n",
    "                          1.0/ 23.06 ** 2\n",
    "                          ]\n",
    "                      },\n",
    "                  eval_losses=[\n",
    "                      {'type': 'energy_per_atom_rmse'},\n",
    "                      {'type': 'energy_per_atom_mae'},\n",
    "                      {'type': 'forces_rmse'},\n",
    "                      {'type': 'forces_mae'}\n",
    "                      ]\n",
    "                  )"
   ]
  },
  {
   "cell_type": "code",
   "execution_count": 5,
   "metadata": {},
   "outputs": [],
   "source": [
    "config_HEA = dict(train_data_path=f'../datasets/HEA/train_cfgs_0.extxyz',\n",
    "                  valid_data_path=f'../datasets/HEA/valid_cfgs_0.extxyz',\n",
    "                  device='cuda:0',\n",
    "                  data_seed=0,\n",
    "                  atomic_types=['Ta', 'V', 'Cr', 'W'],\n",
    "                  atomic_energies=[0., 0., 0., 0.],\n",
    "                  r_cutoff=5.0,\n",
    "                  n_train=4873,\n",
    "                  n_valid=500,\n",
    "                  train_batch_size=32,\n",
    "                  eval_batch_size=100,\n",
    "                  model_path=f'../results/HEA/seed_0',\n",
    "                  model_seed=0,\n",
    "                  default_dtype='float32',\n",
    "                  n_hidden_feats=32,\n",
    "                  n_product_feats=32,\n",
    "                  n_interactions=2,\n",
    "                  l_max_hidden_feats=1,\n",
    "                  l_max_edge_attrs=2,\n",
    "                  correlation=2,\n",
    "                  coupled_product_feats=False,\n",
    "                  symmetric_product=True,\n",
    "                  max_epoch=1000,\n",
    "                  scheduler_patience=50,\n",
    "                  lr=0.01,\n",
    "                  ema=True,\n",
    "                  ema_decay=0.99,\n",
    "                  train_loss={\n",
    "                      'type': 'weighted_sum',\n",
    "                      'losses': [\n",
    "                          {'type': 'energy_by_sqrt_atoms_sse'},\n",
    "                          {'type': 'forces_sse'},\n",
    "                          {'type': 'virials_by_sqrt_atoms_sse'}\n",
    "                          ],\n",
    "                      'weights': [\n",
    "                          1.0,\n",
    "                          0.01,\n",
    "                          0.001\n",
    "                          ]\n",
    "                      },\n",
    "                  early_stopping_loss={\n",
    "                      'type': 'weighted_sum',\n",
    "                      'losses': [\n",
    "                          {'type': 'energy_by_sqrt_atoms_sse'},\n",
    "                          {'type': 'forces_sse'},\n",
    "                          {'type': 'virials_by_sqrt_atoms_sse'}\n",
    "                          ],\n",
    "                      'weights': [\n",
    "                          1.0,\n",
    "                          0.01,\n",
    "                          0.001\n",
    "                          ]\n",
    "                      },\n",
    "                  eval_losses=[\n",
    "                      {'type': 'energy_per_atom_rmse'},\n",
    "                      {'type': 'energy_per_atom_mae'},\n",
    "                      {'type': 'forces_rmse'},\n",
    "                      {'type': 'forces_mae'},\n",
    "                      {'type': 'virials_per_atom_rmse'},\n",
    "                      {'type': 'virials_per_atom_mae'}\n",
    "                      ]\n",
    "                  )"
   ]
  },
  {
   "cell_type": "markdown",
   "metadata": {},
   "source": [
    "The most critical hyper-parameters are `n_hidden_feats`, `n_product_feats`, `n_interactions`, `l_max_hidden_feats`, `l_max_edge_attrs`, `correlation`, and the relative weights of the corresponding loss functions in `train_loss` and `early_stopping_loss`. `n_hidden_feats` and `n_product_feats` define the number of hidden feature channels and those used for constructing the product basis, respectively. `n_interactions` define the number of message-passing layers, while `l_max_hidden_feats` is the maximal rank of the employed messages, `l_max_edge_attrs` denotes the maximal rank of Cartesian tensors employed in embedding atomic environments, and `correlation` defines the correlation-order in the product basis of a single message-passing layer. For more details on the hyper-parameters, we refer to the docstrings for the respective classes. Now, we are ready to train our models and can use the prepared script for this. We can, e.g., run `python run_training_DHA.py > dha.out 2> dha.err` and `python run_training_HEA.py > hea.out 2> hea.err`, respectively. The corresponding results are:"
   ]
  },
  {
   "cell_type": "code",
   "execution_count": 6,
   "metadata": {},
   "outputs": [],
   "source": [
    "RESULTS_PATH = Path('../results')"
   ]
  },
  {
   "cell_type": "code",
   "execution_count": 7,
   "metadata": {},
   "outputs": [
    {
     "name": "stdout",
     "output_type": "stream",
     "text": [
      "-----------------------\n",
      "energy_mae = 0.37 meV/atom\n",
      "force_mae = 0.02 eV/Angstrom\n"
     ]
    }
   ],
   "source": [
    "# DHA\n",
    "energy_rmse = load_object(RESULTS_PATH / 'md22_DHA/seed_0/test_results.json', use_json=True)['energy_per_atom_rmse'] / 23.06 * 1000\n",
    "force_rmse = load_object(RESULTS_PATH / 'md22_DHA/seed_0/test_results.json', use_json=True)['forces_rmse'] / 23.06\n",
    "\n",
    "print('-----------------------')\n",
    "print(f'energy_mae = {np.round(energy_rmse, 2)} meV/atom')\n",
    "print(f'force_mae = {np.round(force_rmse, 3)} eV/Angstrom')"
   ]
  },
  {
   "cell_type": "code",
   "execution_count": 8,
   "metadata": {},
   "outputs": [
    {
     "name": "stdout",
     "output_type": "stream",
     "text": [
      "-----------------------\n",
      "4comp 1.26 meV/atom\n",
      "CrW 6.85 meV/atom\n",
      "TaCr 3.16 meV/atom\n",
      "TaV 1.18 meV/atom\n",
      "TaW 1.93 meV/atom\n",
      "VCr 1.33 meV/atom\n",
      "VW 1.69 meV/atom\n",
      "noCr 0.99 meV/atom\n",
      "noTa 1.05 meV/atom\n",
      "noV 2.03 meV/atom\n",
      "noW 1.08 meV/atom\n",
      "total_md 2.12 meV/atom\n",
      "-----------------------\n",
      "4comp 0.028 eV/Angstrom\n",
      "CrW 0.024 eV/Angstrom\n",
      "TaCr 0.03 eV/Angstrom\n",
      "TaV 0.022 eV/Angstrom\n",
      "TaW 0.019 eV/Angstrom\n",
      "VCr 0.019 eV/Angstrom\n",
      "VW 0.02 eV/Angstrom\n",
      "noCr 0.025 eV/Angstrom\n",
      "noTa 0.023 eV/Angstrom\n",
      "noV 0.026 eV/Angstrom\n",
      "noW 0.031 eV/Angstrom\n",
      "total_md 0.151 eV/Angstrom\n",
      "-----------------------\n",
      "TaV 4.17 meV/atom\n",
      "TaCr 0.54 meV/atom\n",
      "TaW 0.7 meV/atom\n",
      "VCr 4.12 meV/atom\n",
      "VW 0.76 meV/atom\n",
      "CrW 2.36 meV/atom\n"
     ]
    }
   ],
   "source": [
    "# HEA\n",
    "results = {}\n",
    "\n",
    "for task_name in ['4comp', 'CrW', 'TaCr', 'TaV', 'TaW', 'VCr', 'VW', 'noCr', 'noTa', 'noV', 'noW', 'total_md']:\n",
    "    results[task_name] = {}\n",
    "    results[task_name]['energy_rmse'] = load_object(RESULTS_PATH / f'HEA/seed_0/results_{task_name}.test_0.json', use_json=True)['energy_per_atom_rmse'] * 1000\n",
    "    results[task_name]['forces_rmse'] = load_object(RESULTS_PATH / f'HEA/seed_0/results_{task_name}.test_0.json', use_json=True)['forces_rmse']\n",
    "\n",
    "print('-----------------------')\n",
    "for task_name in results.keys():\n",
    "    print(task_name, np.round(results[task_name]['energy_rmse'], 2), 'meV/atom')\n",
    "\n",
    "print('-----------------------')\n",
    "for task_name in results.keys():\n",
    "    print(task_name, np.round(results[task_name]['forces_rmse'], 3), 'eV/Angstrom')\n",
    "\n",
    "results_deformed = {}\n",
    "\n",
    "for task_name in ['TaV', 'TaCr', 'TaW', 'VCr', 'VW', 'CrW']:\n",
    "    results_deformed[task_name] = {}\n",
    "    results_deformed[task_name]['energy_rmse'] = load_object(RESULTS_PATH / f'HEA/seed_0/results_deformed_{task_name}.json', use_json=True)['energy_per_atom_rmse'] * 1000\n",
    "    results_deformed[task_name]['forces_rmse'] = load_object(RESULTS_PATH / f'HEA/seed_0/results_deformed_{task_name}.json', use_json=True)['forces_rmse']\n",
    "    \n",
    "print('-----------------------')\n",
    "for task_name in results_deformed.keys():\n",
    "    print(task_name, np.round(results_deformed[task_name]['energy_rmse'], 2), 'meV/atom')"
   ]
  },
  {
   "cell_type": "markdown",
   "metadata": {},
   "source": [
    "Having trained ICTP potentials, we can now run molecular dynamics simulations. For DHA, we have chosen to run molecular dynamics simulations in the canonical (NVT) statistical ensemble and compute the power spectrum:"
   ]
  },
  {
   "cell_type": "code",
   "execution_count": 9,
   "metadata": {},
   "outputs": [],
   "source": [
    "def vel_correlate(vel: np.ndarray) -> np.ndarray:\n",
    "    # computes velocity (auto-)correlation function\n",
    "    traj_len = vel.shape[0]\n",
    "    n_atoms = vel.shape[1]\n",
    "    vel_mean = np.mean(vel, axis=0)\n",
    "    vel -= vel_mean\n",
    "    vel_acf = np.zeros((traj_len, ), dtype=float)\n",
    "    for ii in range(n_atoms):\n",
    "        for jj in range(3):\n",
    "            vel_acf_ij = signal.fftconvolve(vel[:, ii, jj], vel[::-1, ii, jj], 'full')\n",
    "            vel_acf += vel_acf_ij[len(vel_acf_ij) // 2:]\n",
    "    return vel_acf / (traj_len * n_atoms * 3)"
   ]
  },
  {
   "cell_type": "code",
   "execution_count": 10,
   "metadata": {},
   "outputs": [],
   "source": [
    "def fft_acf(acf: np.ndarray, dt: float, lam: float = 5., len_factor: float = 1.) -> Tuple[np.ndarray, np.ndarray]:\n",
    "    time = np.arange(len(acf)) * dt\n",
    "    decay = np.exp(-lam * (time / time[-1]) ** 2)\n",
    "    acf *= decay\n",
    "    acf = np.pad(acf, pad_width=(0, int(len_factor*len(acf))), mode='constant')\n",
    "    fft = np.fft.fft(acf).real * dt\n",
    "    freq = np.fft.fftfreq(len(acf), d=dt) * 1.0 / (2.99792458 * 10 ** 10)\n",
    "    return fft[:len(fft)//2], freq[:len(fft)//2]"
   ]
  },
  {
   "cell_type": "code",
   "execution_count": 11,
   "metadata": {},
   "outputs": [
    {
     "data": {
      "image/png": "[encoded data removed]",
      "text/plain": [
       "<Figure size 500x500 with 1 Axes>"
      ]
     },
     "metadata": {},
     "output_type": "display_data"
    }
   ],
   "source": [
    "# time step\n",
    "dt = 0.5 * 10 ** (-15)\n",
    "\n",
    "# read trajectory\n",
    "traj = Trajectory(\"dha-nvt.traj\")[20000:]\n",
    "\n",
    "# read velocities\n",
    "v = np.zeros((len(traj),len(traj[0]), 3))\n",
    "for i in range(len(traj)):\n",
    "    atoms = traj[i]\n",
    "    v[i] = atoms.get_velocities()\n",
    "\n",
    "# compute velocity autocorrelation function\n",
    "VACF = vel_correlate(v)\n",
    "\n",
    "# compute and plot power spectrum\n",
    "vsize = VACF.size\n",
    "fft_vacf, freq_v = fft_acf(VACF, dt, 1000., 1.)\n",
    "    \n",
    "fig, ax = plt.subplots(figsize=(5,5))\n",
    "ax.plot(freq_v, fft_vacf.real, label=\"ICTP (500 K)\")\n",
    "ax.set_yticks([])\n",
    "ax.set_xlim(0, 4000)\n",
    "ax.set_xlabel(r'Frequency in cm$^{-1}$', **axis_font)\n",
    "ax.set_ylabel('Intensity in a.u.', **axis_font)\n",
    "ax.legend()\n",
    "plt.show()"
   ]
  },
  {
   "cell_type": "markdown",
   "metadata": {},
   "source": [
    "For HEA, we have chosen to run molecular dynamics simulations in the microcanonical (NVE) statistical ensemble and assess the energy conservation:"
   ]
  },
  {
   "cell_type": "code",
   "execution_count": 12,
   "metadata": {},
   "outputs": [],
   "source": [
    "def compute_running_average(O,M):\n",
    "    O_run = np.empty_like(O)\n",
    "    O_run[:] = 0.0\n",
    "    for i in range(M//2, len(O)- M//2):\n",
    "        O_run[i] = O[i-M//2:i+M//2].sum()/M\n",
    "    return O_run"
   ]
  },
  {
   "cell_type": "code",
   "execution_count": 13,
   "metadata": {},
   "outputs": [
    {
     "data": {
      "image/png": "[encoded data removed]",
      "text/plain": [
       "<Figure size 500x500 with 1 Axes>"
      ]
     },
     "metadata": {},
     "output_type": "display_data"
    }
   ],
   "source": [
    "data = np.loadtxt(\"hea-nve.dat\")\n",
    "    \n",
    "energy = (data[10000:] - np.mean(data[10000:]))\n",
    "time = np.arange(len(data[10000:])) * 20.0 * 1.0 / 10**6\n",
    "\n",
    "fig, ax = plt.subplots(figsize=(5,5))\n",
    "\n",
    "ax.tick_params(right=True)\n",
    "\n",
    "ylocs = [-0.050, -0.025, 0.0, 0.025, 0.050]\n",
    "ylabels = (\"-0.050\", \"-0.025\", \"0.000\", \"0.025\", \"0.050\")\n",
    "\n",
    "ax.set_yticks(ylocs)\n",
    "ax.set_yticklabels(ylabels)\n",
    "\n",
    "ax.set_xlim(-0.0, 1.0)\n",
    "ax.set_ylim(-0.05, 0.05)\n",
    "\n",
    "ax.plot(time, energy, label=\"M=1\")\n",
    "ax.plot(time, compute_running_average(energy, 10), label=\"M=10\")\n",
    "ax.plot(time, compute_running_average(energy, 100), color=\"tab:red\", label=\"M=100\")\n",
    "\n",
    "ax.set_xlabel(\"Time in ns\", fontsize=12)\n",
    "ax.set_ylabel(\"Relative Energy in meV/atom\", fontsize=12)\n",
    "ax.legend()\n",
    "\n",
    "plt.show()"
   ]
  },
  {
   "cell_type": "code",
   "execution_count": null,
   "metadata": {},
   "outputs": [],
   "source": []
  }
 ],
 "metadata": {
  "kernelspec": {
   "display_name": "ictp-cuda",
   "language": "python",
   "name": "python3"
  },
  "language_info": {
   "codemirror_mode": {
    "name": "ipython",
    "version": 3
   },
   "file_extension": ".py",
   "mimetype": "text/x-python",
   "name": "python",
   "nbconvert_exporter": "python",
   "pygments_lexer": "ipython3",
   "version": "3.11.10"
  }
 },
 "nbformat": 4,
 "nbformat_minor": 2
}
